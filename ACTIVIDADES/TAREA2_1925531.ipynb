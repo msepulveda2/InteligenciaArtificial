{
  "nbformat": 4,
  "nbformat_minor": 0,
  "metadata": {
    "colab": {
      "provenance": []
    },
    "kernelspec": {
      "name": "python3",
      "display_name": "Python 3"
    },
    "language_info": {
      "name": "python"
    }
  },
  "cells": [
    {
      "cell_type": "code",
      "execution_count": null,
      "metadata": {
        "id": "zZ4lAvRqiL8W"
      },
      "outputs": [],
      "source": []
    },
    {
      "cell_type": "markdown",
      "source": [
        "### **TAREA 2. BASICS ON PYTHON **\n",
        "\n",
        "\n"
      ],
      "metadata": {
        "id": "FwOIKBj9iMjN"
      }
    },
    {
      "cell_type": "markdown",
      "source": [
        "Mariana Marcela Sepulveda Sanchez\n",
        "1925531\n",
        "IB\n",
        "Veranos N1"
      ],
      "metadata": {
        "id": "LpCGcYUcLLRB"
      }
    },
    {
      "cell_type": "markdown",
      "source": [
        "*1. TEXT ANALYSIS TOOL *"
      ],
      "metadata": {
        "id": "9cVs1JHIiWs4"
      }
    },
    {
      "cell_type": "code",
      "source": [
        "from collections import Counter\n",
        "import re"
      ],
      "metadata": {
        "id": "K2HY2H6Sov7z"
      },
      "execution_count": 3,
      "outputs": []
    },
    {
      "cell_type": "code",
      "source": [
        "text = input(\" insert the text: \")\n",
        "word_list = text.split()\n",
        "print(\"the amount of words is:\" , len(word_list))"
      ],
      "metadata": {
        "colab": {
          "base_uri": "https://localhost:8080/"
        },
        "id": "3Y7klQVWHS3d",
        "outputId": "f3a2d1ce-781d-49e3-f7da-cb884cce77e0"
      },
      "execution_count": 11,
      "outputs": [
        {
          "output_type": "stream",
          "name": "stdout",
          "text": [
            " insert the text: En el momento en que Blancanieves mordió la manzana, cayó desplomada. Los enanos, alertados por los animales del bosque, llegaron a la cabaña mientras la reina huía. Con gran tristeza, colocaron a Blancanieves en una urna de cristal. Todos tenían la esperanza de que la hermosa joven despertase un día.  Y el día llegó cuando un apuesto príncipe que cruzaba el bosque en su caballo, vio a la hermosa joven en la urna de cristal y maravillado por su belleza, le dio un beso en la mejilla, la joven despertó al haberse roto el hechizo. Blancanieves y el príncipe se casaron y vivieron felices para siempre\n",
            "the amount of words is: 106\n"
          ]
        }
      ]
    },
    {
      "cell_type": "code",
      "source": [
        "sentence_list = text.split(\". \")\n",
        "print(\"the amount of sentences is:\" , len(sentence_list))"
      ],
      "metadata": {
        "colab": {
          "base_uri": "https://localhost:8080/"
        },
        "id": "MfmZMh65HSKp",
        "outputId": "75564ec0-7394-490d-d331-88133cd6c339"
      },
      "execution_count": 12,
      "outputs": [
        {
          "output_type": "stream",
          "name": "stdout",
          "text": [
            "the amount of sentences is: 6\n"
          ]
        }
      ]
    },
    {
      "cell_type": "code",
      "source": [
        "paragraph_list = text.split(\"\\n\")\n",
        "print(\"the amount of paragraphs is:\" , len(paragraph_list))"
      ],
      "metadata": {
        "colab": {
          "base_uri": "https://localhost:8080/"
        },
        "id": "C7VqfRVPH2ps",
        "outputId": "e7cdfaae-54ea-4c54-fbdc-7fa53d00312c"
      },
      "execution_count": 13,
      "outputs": [
        {
          "output_type": "stream",
          "name": "stdout",
          "text": [
            "the amount of paragraphs is: 1\n"
          ]
        }
      ]
    },
    {
      "cell_type": "code",
      "source": [
        "words = re.findall(r'\\b\\w+\\b', text.lower())\n",
        "total_length = sum(len(word) for word in words)\n",
        "average_word_length = total_length / len(words)\n",
        "word_counts = Counter(words)\n",
        "most_common_words = word_counts.most_common()\n",
        "print(\"the most common words are:\" , most_common_words)\n",
        "print(\"the average word length is:\" , average_word_length)"
      ],
      "metadata": {
        "colab": {
          "base_uri": "https://localhost:8080/"
        },
        "id": "YiDlAU-QH6sy",
        "outputId": "13199c0e-37fb-4d3e-fc16-e1b27958db42"
      },
      "execution_count": 14,
      "outputs": [
        {
          "output_type": "stream",
          "name": "stdout",
          "text": [
            "the most common words are: [('la', 9), ('en', 6), ('el', 5), ('y', 4), ('que', 3), ('blancanieves', 3), ('a', 3), ('de', 3), ('joven', 3), ('un', 3), ('los', 2), ('por', 2), ('bosque', 2), ('urna', 2), ('cristal', 2), ('hermosa', 2), ('día', 2), ('príncipe', 2), ('su', 2), ('momento', 1), ('mordió', 1), ('manzana', 1), ('cayó', 1), ('desplomada', 1), ('enanos', 1), ('alertados', 1), ('animales', 1), ('del', 1), ('llegaron', 1), ('cabaña', 1), ('mientras', 1), ('reina', 1), ('huía', 1), ('con', 1), ('gran', 1), ('tristeza', 1), ('colocaron', 1), ('una', 1), ('todos', 1), ('tenían', 1), ('esperanza', 1), ('despertase', 1), ('llegó', 1), ('cuando', 1), ('apuesto', 1), ('cruzaba', 1), ('caballo', 1), ('vio', 1), ('maravillado', 1), ('belleza', 1), ('le', 1), ('dio', 1), ('beso', 1), ('mejilla', 1), ('despertó', 1), ('al', 1), ('haberse', 1), ('roto', 1), ('hechizo', 1), ('se', 1), ('casaron', 1), ('vivieron', 1), ('felices', 1), ('para', 1), ('siempre', 1)]\n",
            "the average word length is: 4.5754716981132075\n"
          ]
        }
      ]
    },
    {
      "cell_type": "markdown",
      "source": [
        "*2. Hangman Game*"
      ],
      "metadata": {
        "id": "FGllqISQoyla"
      }
    },
    {
      "cell_type": "code",
      "source": [
        "import random\n",
        "\n",
        "def guessword():\n",
        "    words = [\"rosa\", \"blanco\", \"azul\", \"naranja\", \"verde\"]\n",
        "    return random.choice(words)\n",
        "\n",
        "def play(words):\n",
        "    cpalabra = \".\" * len(words)\n",
        "    guess = False\n",
        "    ladivina = []\n",
        "    padivina = []\n",
        "    intentos = 6\n",
        "\n",
        "    print(\"¡Vamos a jugar ahorcado!\")\n",
        "    print(f\"Palabra: {cpalabra}\")\n",
        "    print(f\"Intentos restantes: {intentos}\")\n",
        "    print(\"\\n\")\n",
        "\n",
        "    while not guess and intentos > 0:\n",
        "        prueba = input(\"Adivina una letra: \").lower()\n",
        "        if len(prueba) == 1 and prueba.isalpha():\n",
        "            if prueba in ladivina:\n",
        "                print(f\"Ya adivinaste la letra {prueba}\")\n",
        "            elif prueba not in words:\n",
        "                print(f\"{prueba} no es parte de la palabra.\")\n",
        "                intentos -= 1\n",
        "                ladivina.append(prueba)\n",
        "            else:\n",
        "                print(f\"Excelente, {prueba}\")\n",
        "                ladivina.append(prueba)\n",
        "                lista = list(cpalabra)\n",
        "                indices = [i for i, letra in enumerate(words) if letra == prueba]\n",
        "                for index in indices:\n",
        "                    lista[index] = prueba\n",
        "                cpalabra = \"\".join(lista)\n",
        "                if \".\" not in cpalabra:\n",
        "                    guess = True\n",
        "        elif len(prueba) == len(words) and prueba.isalpha():\n",
        "            if prueba in padivina:\n",
        "                print(f\"Ya adivinaste la palabra {prueba}\")\n",
        "            elif prueba != palabras:\n",
        "                print(f\"{prueba} no es la palabra.\")\n",
        "                intentos -= 1\n",
        "                padivina.append(prueba)\n",
        "            else:\n",
        "                guess = True\n",
        "                cpalabra = palabras\n",
        "        else:\n",
        "            print(\"Entrada no válida.\")\n",
        "\n",
        "        print(f\"Palabra: {cpalabra}\")\n",
        "        print(f\"Intentos restantes: {intentos}\")\n",
        "        print(\"\\n\")\n",
        "\n",
        "    if guess:\n",
        "        print(f\"GANASTE!, la palabra era {words}\")\n",
        "    else:\n",
        "        print(f\"Ya no tienes intentos. La palabra era {words}\")\n",
        "\n",
        "if __name__ == \"__main__\":\n",
        "    words = guessword()\n",
        "    play(words)\n"
      ],
      "metadata": {
        "colab": {
          "base_uri": "https://localhost:8080/"
        },
        "id": "7E4qa15epC3f",
        "outputId": "51b880fa-09f9-4986-c2c0-d252edfd89bc"
      },
      "execution_count": 11,
      "outputs": [
        {
          "output_type": "stream",
          "name": "stdout",
          "text": [
            "¡Vamos a jugar ahorcado!\n",
            "Palabra: ......\n",
            "Intentos restantes: 6\n",
            "\n",
            "\n",
            "Adivina una letra: a\n",
            "Excelente, a\n",
            "Palabra: ..a...\n",
            "Intentos restantes: 6\n",
            "\n",
            "\n",
            "Adivina una letra: b\n",
            "Excelente, b\n",
            "Palabra: b.a...\n",
            "Intentos restantes: 6\n",
            "\n",
            "\n",
            "Adivina una letra: c\n",
            "Excelente, c\n",
            "Palabra: b.a.c.\n",
            "Intentos restantes: 6\n",
            "\n",
            "\n",
            "Adivina una letra: d\n",
            "d no es parte de la palabra.\n",
            "Palabra: b.a.c.\n",
            "Intentos restantes: 5\n",
            "\n",
            "\n",
            "Adivina una letra: e\n",
            "e no es parte de la palabra.\n",
            "Palabra: b.a.c.\n",
            "Intentos restantes: 4\n",
            "\n",
            "\n",
            "Adivina una letra: f\n",
            "f no es parte de la palabra.\n",
            "Palabra: b.a.c.\n",
            "Intentos restantes: 3\n",
            "\n",
            "\n",
            "Adivina una letra: g\n",
            "g no es parte de la palabra.\n",
            "Palabra: b.a.c.\n",
            "Intentos restantes: 2\n",
            "\n",
            "\n",
            "Adivina una letra: h\n",
            "h no es parte de la palabra.\n",
            "Palabra: b.a.c.\n",
            "Intentos restantes: 1\n",
            "\n",
            "\n",
            "Adivina una letra: i\n",
            "i no es parte de la palabra.\n",
            "Palabra: b.a.c.\n",
            "Intentos restantes: 0\n",
            "\n",
            "\n",
            "Ya no tienes intentos. La palabra era blanco\n"
          ]
        }
      ]
    },
    {
      "cell_type": "markdown",
      "source": [
        "*3. Number Guessing Game*"
      ],
      "metadata": {
        "id": "QWX_H4dk8wjw"
      }
    },
    {
      "cell_type": "code",
      "source": [
        "import random\n",
        "\n",
        "def guessnumber():\n",
        "    numero = random.randint(1, 100)\n",
        "    guess = False\n",
        "\n",
        "    print(\"Guess the number\")\n",
        "    print(\"Adivina el numero del 1-100 que he elejido.\")\n",
        "\n",
        "    while not guess:\n",
        "        intento = input(\"¿Que numero crees que es?: \")\n",
        "\n",
        "        if intento.isdigit():\n",
        "            intento = int(intento)\n",
        "\n",
        "            if intento < numero:\n",
        "                print(\"Muy bajo. Intenta de nuevo.\")\n",
        "            elif intento > numero:\n",
        "                print(\"Muy alto. Intenta de nuevo.\")\n",
        "            else:\n",
        "                print(f\"EXCELENTE! el numero era {numero}.\")\n",
        "                guess = True\n",
        "        else:\n",
        "            print(\"Introduce un número válido.\")\n",
        "\n",
        "if __name__ == \"__main__\":\n",
        "    guessnumber()"
      ],
      "metadata": {
        "colab": {
          "base_uri": "https://localhost:8080/"
        },
        "id": "5qYNocTG9gZe",
        "outputId": "4c2469a7-dde3-4b91-f1c3-9e0063b78dd5"
      },
      "execution_count": 7,
      "outputs": [
        {
          "output_type": "stream",
          "name": "stdout",
          "text": [
            "Guess the number\n",
            "Adivina el numero del 1-100 que he elejido.\n",
            "¿Que numero crees que es?: 50\n",
            "Muy bajo. Intenta de nuevo.\n",
            "¿Que numero crees que es?: 99\n",
            "Muy alto. Intenta de nuevo.\n",
            "¿Que numero crees que es?: 65\n",
            "Muy bajo. Intenta de nuevo.\n",
            "¿Que numero crees que es?: 75\n",
            "Muy alto. Intenta de nuevo.\n",
            "¿Que numero crees que es?: 70\n",
            "Muy bajo. Intenta de nuevo.\n",
            "¿Que numero crees que es?: 72\n",
            "EXCELENTE! el numero era 72.\n"
          ]
        }
      ]
    }
  ]
}